{
 "cells": [
  {
   "cell_type": "code",
   "execution_count": 1,
   "metadata": {},
   "outputs": [
    {
     "data": {
      "text/html": [
       "<pre style=\"white-space:pre;overflow-x:auto;line-height:normal;font-family:Menlo,'DejaVu Sans Mono',consolas,'Courier New',monospace\">Manim Community <span style=\"color: #008000; text-decoration-color: #008000\">v0.18.0</span>\n",
       "\n",
       "</pre>\n"
      ],
      "text/plain": [
       "Manim Community \u001b[32mv0.\u001b[0m\u001b[32m18.0\u001b[0m\n",
       "\n"
      ]
     },
     "metadata": {},
     "output_type": "display_data"
    }
   ],
   "source": [
    "from manim import *"
   ]
  },
  {
   "cell_type": "code",
   "execution_count": 2,
   "metadata": {},
   "outputs": [
    {
     "name": "stderr",
     "output_type": "stream",
     "text": [
      "                                                                                             \r"
     ]
    },
    {
     "data": {
      "text/html": [
       "<video src=\"media\\jupyter\\PolygonOnAxes@2024-05-07@13-51-04.mp4\" controls autoplay loop style=\"max-width: 60%;\"  >\n",
       "      Your browser does not support the <code>video</code> element.\n",
       "    </video>"
      ],
      "text/plain": [
       "<IPython.core.display.Video object>"
      ]
     },
     "metadata": {},
     "output_type": "display_data"
    }
   ],
   "source": [
    "class PolygonOnAxes(Scene):\n",
    "    def get_rectangle_corners(self, bottom_left, top_right):\n",
    "        return [\n",
    "            (top_right[0], top_right[1]),\n",
    "            (bottom_left[0], top_right[1]),\n",
    "            (bottom_left[0], bottom_left[1]),\n",
    "            (top_right[0], bottom_left[1]),\n",
    "        ]\n",
    "\n",
    "    def construct(self):\n",
    "        ax = Axes(\n",
    "            x_range=[0, 10],\n",
    "            y_range=[0, 10],\n",
    "            x_length=6,\n",
    "            y_length=6,\n",
    "            axis_config={\"include_tip\": False},\n",
    "        )\n",
    "\n",
    "        t = ValueTracker(5)\n",
    "        k = 25\n",
    "\n",
    "        graph = ax.plot(\n",
    "            lambda x: k / x,\n",
    "            color=YELLOW_D,\n",
    "            x_range=[k / 10, 10.0, 0.01],\n",
    "            use_smoothing=False,\n",
    "        )\n",
    "\n",
    "        def get_rectangle():\n",
    "            polygon = Polygon(\n",
    "                *[\n",
    "                    ax.c2p(*i)\n",
    "                    for i in self.get_rectangle_corners(\n",
    "                        (0, 0), (t.get_value(), k / t.get_value())\n",
    "                    )\n",
    "                ]\n",
    "            )\n",
    "            polygon.stroke_width = 1\n",
    "            polygon.set_fill(BLUE, opacity=0.5)\n",
    "            polygon.set_stroke(YELLOW_B)\n",
    "            return polygon\n",
    "\n",
    "        polygon = always_redraw(get_rectangle)\n",
    "\n",
    "        dot = Dot()\n",
    "        dot.add_updater(lambda x: x.move_to(ax.c2p(t.get_value(), k / t.get_value())))\n",
    "        dot.set_z_index(10)\n",
    "\n",
    "        self.add(ax, graph, dot)\n",
    "        self.play(Create(polygon))\n",
    "        self.play(t.animate.set_value(10))\n",
    "        self.play(t.animate.set_value(k / 10))\n",
    "        self.play(t.animate.set_value(5))\n",
    "\n",
    "\n",
    "%manim -qm -v WARNING PolygonOnAxes"
   ]
  },
  {
   "cell_type": "code",
   "execution_count": 3,
   "metadata": {},
   "outputs": [
    {
     "name": "stderr",
     "output_type": "stream",
     "text": [
      "                                                \r"
     ]
    },
    {
     "data": {
      "text/html": [
       "<video src=\"media\\jupyter\\SineCurveUnitCircle@2024-05-07@13-51-21.mp4\" controls autoplay loop style=\"max-width: 60%;\"  >\n",
       "      Your browser does not support the <code>video</code> element.\n",
       "    </video>"
      ],
      "text/plain": [
       "<IPython.core.display.Video object>"
      ]
     },
     "metadata": {},
     "output_type": "display_data"
    }
   ],
   "source": [
    "class SineCurveUnitCircle(Scene):\n",
    "    # contributed by heejin_park, https://infograph.tistory.com/230\n",
    "    def construct(self):\n",
    "        self.show_axis()\n",
    "        self.show_circle()\n",
    "        self.move_dot_and_draw_curve()\n",
    "        self.wait()\n",
    "\n",
    "    def show_axis(self):\n",
    "        x_start = np.array([-6,0,0])\n",
    "        x_end = np.array([6,0,0])\n",
    "\n",
    "        y_start = np.array([-4,-2,0])\n",
    "        y_end = np.array([-4,2,0])\n",
    "\n",
    "        x_axis = Line(x_start, x_end)\n",
    "        y_axis = Line(y_start, y_end)\n",
    "\n",
    "        self.add(x_axis, y_axis)\n",
    "        self.add_x_labels()\n",
    "\n",
    "        self.origin_point = np.array([-4,0,0])\n",
    "        self.curve_start = np.array([-3,0,0])\n",
    "\n",
    "    def add_x_labels(self):\n",
    "        x_labels = [\n",
    "            MathTex(\"\\pi\"), MathTex(\"2 \\pi\"),\n",
    "            MathTex(\"3 \\pi\"), MathTex(\"4 \\pi\"),\n",
    "        ]\n",
    "\n",
    "        for i in range(len(x_labels)):\n",
    "            x_labels[i].next_to(np.array([-1 + 2*i, 0, 0]), DOWN)\n",
    "            self.add(x_labels[i])\n",
    "\n",
    "    def show_circle(self):\n",
    "        circle = Circle(radius=1)\n",
    "        circle.move_to(self.origin_point)\n",
    "        self.add(circle)\n",
    "        self.circle = circle\n",
    "\n",
    "    def create_angle_marker(self, angle, radius=0.5, color=RED):\n",
    "        arc = Arc(radius=radius, start_angle=0, angle=angle, color=color)\n",
    "        arc.move_arc_center_to(self.origin_point)\n",
    "        label = MathTex(f\"{angle / PI :.2g} \\\\pi\")\n",
    "        label.next_to(arc, DOWN, buff=0.1)\n",
    "        return arc, label\n",
    "\n",
    "    def move_dot_and_draw_curve(self):\n",
    "        orbit = self.circle\n",
    "        origin_point = self.origin_point\n",
    "\n",
    "        dot = Dot(radius=0.08, color=YELLOW)\n",
    "        dot.move_to(orbit.point_from_proportion(0))\n",
    "        self.t_offset = 0\n",
    "        rate = 0.25\n",
    "\n",
    "        def go_around_circle(mob, dt):\n",
    "            self.t_offset += (dt * rate)\n",
    "            # print(self.t_offset)\n",
    "            mob.move_to(orbit.point_from_proportion(self.t_offset % 1))\n",
    "\n",
    "        def get_line_to_circle():\n",
    "            return Line(origin_point, dot.get_center(), color=BLUE)\n",
    "\n",
    "        def get_line_to_curve():\n",
    "            x = self.curve_start[0] + self.t_offset * 4\n",
    "            y = dot.get_center()[1]\n",
    "            return Line(dot.get_center(), np.array([x,y,0]), color=YELLOW_A, stroke_width=2 )\n",
    "        \n",
    "        def update_angle_marker(self, *args, **kwargs):\n",
    "            angle = self.t_offset * TAU\n",
    "            if angle > TAU:\n",
    "                angle = angle % TAU\n",
    "            \n",
    "            for quarter in [0, PI/2, PI, 3*PI/2, 2*PI, 5*PI/2, 3*PI, 7*PI/2, 4*PI]:\n",
    "                if np.isclose(angle, quarter, atol=0.1):\n",
    "                    arc, label = self.create_angle_marker(quarter)\n",
    "                    self.add(arc, label)\n",
    "            # arc, label = self.create_angle_marker(angle)\n",
    "            # return VGroup(arc, label)\n",
    "        \n",
    "\n",
    "        self.add_updater(update_angle_marker)\n",
    "        # angle_marker = always_redraw(update_angle_marker)\n",
    "        # self.add(angle_marker)\n",
    "        self.remove_updater(update_angle_marker)\n",
    "\n",
    "\n",
    "        self.curve = VGroup()\n",
    "        self.curve.add(Line(self.curve_start,self.curve_start))\n",
    "        def get_curve():\n",
    "            last_line = self.curve[-1]\n",
    "            x = self.curve_start[0] + self.t_offset * 4\n",
    "            y = dot.get_center()[1]\n",
    "            new_line = Line(last_line.get_end(),np.array([x,y,0]), color=YELLOW_D)\n",
    "            self.curve.add(new_line)\n",
    "\n",
    "            return self.curve\n",
    "\n",
    "        dot.add_updater(go_around_circle)\n",
    "\n",
    "        origin_to_circle_line = always_redraw(get_line_to_circle)\n",
    "        dot_to_curve_line = always_redraw(get_line_to_curve)\n",
    "        sine_curve_line = always_redraw(get_curve)\n",
    "\n",
    "        self.add(dot)\n",
    "        self.add(orbit, origin_to_circle_line, dot_to_curve_line, sine_curve_line)\n",
    "        self.wait(8.5)\n",
    "\n",
    "        dot.remove_updater(go_around_circle)\n",
    "\n",
    "%manim -qm -v WARNING SineCurveUnitCircle"
   ]
  },
  {
   "cell_type": "code",
   "execution_count": 4,
   "metadata": {},
   "outputs": [
    {
     "name": "stderr",
     "output_type": "stream",
     "text": [
      "                                                                                                                 \r"
     ]
    },
    {
     "data": {
      "text/html": [
       "<video src=\"media\\jupyter\\QuadraticFormula@2024-05-07@13-51-37.mp4\" controls autoplay loop style=\"max-width: 60%;\"  >\n",
       "      Your browser does not support the <code>video</code> element.\n",
       "    </video>"
      ],
      "text/plain": [
       "<IPython.core.display.Video object>"
      ]
     },
     "metadata": {},
     "output_type": "display_data"
    }
   ],
   "source": [
    "class QuadraticFormula(Scene):\n",
    "    def construct(self):\n",
    "        # Writing the general form of a quadratic equation\n",
    "        equation_1 = MathTex(\"ax^2\", \"+\", \"bx\", \"+\", \"c\", \"=\", \"0\").scale(1.5)\n",
    "        self.play(Write(equation_1))\n",
    "        self.wait(1)\n",
    "\n",
    "        # Create the components of the new equation\n",
    "        equation_2 = MathTex(\"x^2\", \"+\", \"\\\\frac{b}{a}x\", \"+\", \"\\\\frac{c}{a}\", \"=\", \"0\").scale(1.5)\n",
    "\n",
    "        # Animation for transforming each part of the equation\n",
    "        self.play(\n",
    "            ReplacementTransform(equation_1, equation_2),  # Transform all\n",
    "            \n",
    "        )\n",
    "        self.wait(1)\n",
    "\n",
    "        \n",
    "        \n",
    "\n",
    "\n",
    "%manim -qm -v WARNING QuadraticFormula"
   ]
  },
  {
   "cell_type": "markdown",
   "metadata": {},
   "source": [
    "# Note: the default grid size is 8 x 14. It's addressed by a numpy array with x=[-7,8], y = [-4:5] and (0,0) is the centre"
   ]
  },
  {
   "cell_type": "code",
   "execution_count": 5,
   "metadata": {},
   "outputs": [
    {
     "name": "stderr",
     "output_type": "stream",
     "text": [
      "                                                                                                                                                \r"
     ]
    },
    {
     "data": {
      "text/html": [
       "<video src=\"media\\jupyter\\QuadraticFormula@2024-05-07@13-51-56.mp4\" controls autoplay loop style=\"max-width: 60%;\"  >\n",
       "      Your browser does not support the <code>video</code> element.\n",
       "    </video>"
      ],
      "text/plain": [
       "<IPython.core.display.Video object>"
      ]
     },
     "metadata": {},
     "output_type": "display_data"
    }
   ],
   "source": [
    "class QuadraticFormula(Scene):\n",
    "    def construct(self):\n",
    "        # Writing the general form of a quadratic equation\n",
    "        equation_1 = MathTex(\"a\", \"x^2\", \"+\", \"b\", \"x\", \"+\", \"c\", \"=\", \"0\").scale(1.5)\n",
    "        self.play(Write(equation_1))\n",
    "        self.wait(1)\n",
    "\n",
    "        # Highlight the first coefficient \"a\"\n",
    "        self.play(ApplyMethod(equation_1[0].set_color, RED))\n",
    "        self.wait(1)\n",
    "\n",
    "        # Divide by 'a' to simplify\n",
    "        equation_2 = MathTex(\n",
    "            \"x^2\", \"+\", \n",
    "            \"\\\\frac{b}{a}\", \"x\", \"+\", \n",
    "            \"\\\\frac{c}{a}\", \n",
    "            \"=\", \"0\"\n",
    "        ).scale(1.5)\n",
    "\n",
    "        # Create equation 2 but without the denominator that we'll get from the coefficient of the first term\n",
    "        equation_2_partial = MathTex(\n",
    "            \"x^2\", \"+\", \n",
    "            \"\\\\frac{b}{\\\\phantom{a}}\", \"x\", \"+\", \n",
    "            \"\\\\frac{c}{\\\\phantom{a}}\", \n",
    "            \"=\", \"0\"\n",
    "        ).scale(1.5)\n",
    "\n",
    "        # manually adjust vertical position of equation_2_partial to that of equation_2\n",
    "        equation_2_partial.shift(UP * 0.23) # This value may need to be adjusted\n",
    "\n",
    "        # Duplicate 'a' and move it under 'b' and 'c'\n",
    "        a_copy1 = equation_1[0].copy()\n",
    "        a_copy2 = equation_1[0].copy()\n",
    "        a_copy1.target = MathTex(\"a\").scale(1.5).set_color(RED).move_to(equation_2[2]).align_to(equation_2[2], DOWN) #control the color and alignment\n",
    "        a_copy2.target = MathTex(\"a\").scale(1.5).set_color(RED).move_to(equation_2[5]).align_to(equation_2[5], DOWN) #control the color and alignment\n",
    "\n",
    "        self.play(\n",
    "            MoveToTarget(a_copy1),  # Move first 'a' to its target\n",
    "            MoveToTarget(a_copy2),   # Move second 'a' to its target\n",
    "            ReplacementTransform(equation_1, equation_2_partial) # Transform from equation_1 to equation_2_partial\n",
    "        )\n",
    "\n",
    "\n",
    "        self.play(\n",
    "            FadeIn(equation_2),\n",
    "            FadeOut(a_copy1, a_copy2)\n",
    "        )\n",
    "        self.play(\n",
    "            FadeOut(equation_2_partial)\n",
    "        )     \n",
    "               \n",
    "        self.wait(1)\n",
    "\n",
    "        # Adjust the representation \n",
    "\n",
    "        equation_3 = MathTex(\n",
    "            \"x^2\", \"+\",\n",
    "            \"\\\\frac{b}{a}x\",\n",
    "            \"=\",  \"-\",\n",
    "            \"\\\\frac{c}{a}\"\n",
    "        ).scale(1.5)\n",
    "\n",
    "        equation_3_partial = MathTex(\n",
    "            \"x^2\", \"+\",\n",
    "            \"\\\\frac{b}{a}x\",\n",
    "            \"+\",\n",
    "            \"{\\\\phantom{\\\\frac{c}{a}}}\",\n",
    "            \"=\", \"-\",\n",
    "            \"{\\\\phantom{\\\\frac{c}{a}}}\"\n",
    "        ).scale(1.5)\n",
    "\n",
    "        equation_3_partial.shift(RIGHT * 0.1)\n",
    "\n",
    "        ca_copy = equation_2[6].copy()\n",
    "        ca_copy.target = MathTex(\"\\\\frac{c}{a}\").scale(1.5).move_to(equation_3_partial[6])\n",
    "    \n",
    "        ca_copy.target.shift(RIGHT * 0.8)\n",
    "\n",
    "        self.play(\n",
    "            Unwrite(equation_2[-1])\n",
    "        )\n",
    "        self.wait(1)\n",
    "\n",
    "        self.play(\n",
    "            MoveToTarget(ca_copy),\n",
    "            \n",
    "            FadeOut(equation_2),\n",
    "            FadeIn(equation_3_partial),\n",
    "            FadeOut(equation_3_partial[3])\n",
    "        )\n",
    "\n",
    "        self.play(\n",
    "            TransformMatchingTex(equation_3_partial, equation_3),\n",
    "            \n",
    "            Transform(ca_copy, equation_3[5]),\n",
    "            FadeOut(ca_copy)\n",
    "            \n",
    "        )\n",
    "\n",
    "        \n",
    "        self.wait(1)\n",
    "\n",
    "        # Complete the square\n",
    "\n",
    "        # Group the left and right sides of the equation\n",
    "        left_side = VGroup(equation_3[0], equation_3[1], equation_3[2]) # x^2 + (b/a)x\n",
    "        right_side = VGroup(equation_3[4], equation_3[5]) # - (c/a)\n",
    "\n",
    "        # Shift those parts\n",
    "        self.play(left_side.animate.shift(LEFT * 3.0), right_side.animate.shift(RIGHT * 2.5))\n",
    "\n",
    "        # Add the square completion term to both sides\n",
    "        term_left = MathTex(\"+\\\\left(\\\\frac{b}{2a}\\\\right)^2\").scale(1.5).next_to(left_side, RIGHT)\n",
    "        term_right = MathTex(\"\\\\left(\\\\frac{b}{2a}\\\\right)^2\").scale(1.5).next_to(right_side, LEFT)\n",
    "\n",
    "        # term_left = new_term.copy().next_to(left_side, RIGHT)\n",
    "        # term_right = new_term.copy().next_to(right_side, LEFT)\n",
    "\n",
    "        # animate the terms addition\n",
    "        self.play(\n",
    "            Write(term_left),\n",
    "            Write(term_right)\n",
    "        )\n",
    "\n",
    "        self.wait(2)\n",
    "\n",
    "\n",
    "\n",
    "        \n",
    "\n",
    "%manim -qm -v WARNING QuadraticFormula"
   ]
  },
  {
   "cell_type": "code",
   "execution_count": 6,
   "metadata": {},
   "outputs": [
    {
     "name": "stderr",
     "output_type": "stream",
     "text": [
      "                                                                  \r"
     ]
    },
    {
     "data": {
      "text/html": [
       "<video src=\"media\\jupyter\\CreateCircle@2024-05-07@13-52-32.mp4\" controls autoplay loop style=\"max-width: 60%;\"  >\n",
       "      Your browser does not support the <code>video</code> element.\n",
       "    </video>"
      ],
      "text/plain": [
       "<IPython.core.display.Video object>"
      ]
     },
     "metadata": {},
     "output_type": "display_data"
    }
   ],
   "source": [
    "class CreateCircle(Scene):\n",
    "    def construct(self):\n",
    "        circle = Circle()  # create a circle\n",
    "        circle.set_fill(PINK, opacity=0.5)  # set the color and transparency\n",
    "        self.play(Create(circle))  # show the circle on screen\n",
    "\n",
    "\n",
    "\n",
    "# don't remove below command for run button to work\n",
    "%manim -qm -v WARNING CreateCircle\n",
    "\n"
   ]
  },
  {
   "cell_type": "code",
   "execution_count": 23,
   "metadata": {},
   "outputs": [
    {
     "name": "stderr",
     "output_type": "stream",
     "text": [
      "                                                                     \r"
     ]
    },
    {
     "data": {
      "text/html": [
       "<video src=\"media\\jupyter\\SquareToCircle@2023-12-15@11-01-27.mp4\" controls autoplay loop style=\"max-width: 60%;\"  >\n",
       "      Your browser does not support the <code>video</code> element.\n",
       "    </video>"
      ],
      "text/plain": [
       "<IPython.core.display.Video object>"
      ]
     },
     "metadata": {},
     "output_type": "display_data"
    }
   ],
   "source": [
    "class SquareToCircle(Scene):\n",
    "    def construct(self):\n",
    "        circle = Circle()  # create a circle\n",
    "        circle.set_fill(PINK, opacity=0.5)  # set color and transparency\n",
    "\n",
    "        square = Square()  # create a square\n",
    "        square.rotate(PI / 4)  # rotate a certain amount\n",
    "\n",
    "        self.play(Create(square))  # animate the creation of the square\n",
    "        self.play(Transform(square, circle))  # interpolate the square into the circle\n",
    "        self.play(FadeOut(square))  # fade out animation\n",
    "\n",
    "%manim -qm -v WARNING SquareToCircle"
   ]
  },
  {
   "cell_type": "code",
   "execution_count": 28,
   "metadata": {},
   "outputs": [
    {
     "name": "stderr",
     "output_type": "stream",
     "text": [
      "                                                                                   \r"
     ]
    },
    {
     "data": {
      "text/html": [
       "<video src=\"media\\jupyter\\SquareAndCircle@2023-12-15@11-03-41.mp4\" controls autoplay loop style=\"max-width: 60%;\"  >\n",
       "      Your browser does not support the <code>video</code> element.\n",
       "    </video>"
      ],
      "text/plain": [
       "<IPython.core.display.Video object>"
      ]
     },
     "metadata": {},
     "output_type": "display_data"
    }
   ],
   "source": [
    "class SquareAndCircle(Scene):\n",
    "    def construct(self):\n",
    "        circle = Circle()  # create a circle\n",
    "        circle.set_fill(PINK, opacity=0.5)  # set the color and transparency\n",
    "\n",
    "        square = Square()  # create a square\n",
    "        square.set_fill(BLUE, opacity=0.5)  # set the color and transparency\n",
    "\n",
    "        square.next_to(circle, RIGHT, buff=0.5)  # set the position\n",
    "        self.play(FadeIn(circle), FadeIn(square))  # show the shapes on screen\n",
    "        self.play(FadeOut(square), FadeOut(circle))\n",
    "        #self.play(FadeOut(circle))\n",
    "\n",
    "%manim -qm -v WARNING SquareAndCircle"
   ]
  },
  {
   "cell_type": "code",
   "execution_count": 30,
   "metadata": {},
   "outputs": [
    {
     "name": "stderr",
     "output_type": "stream",
     "text": [
      "                                                                                             \r"
     ]
    },
    {
     "data": {
      "text/html": [
       "<video src=\"media\\jupyter\\DifferentRotations@2023-12-15@11-06-23.mp4\" controls autoplay loop style=\"max-width: 60%;\"  >\n",
       "      Your browser does not support the <code>video</code> element.\n",
       "    </video>"
      ],
      "text/plain": [
       "<IPython.core.display.Video object>"
      ]
     },
     "metadata": {},
     "output_type": "display_data"
    }
   ],
   "source": [
    "class AnimatedSquareToCircle(Scene):\n",
    "    def construct(self):\n",
    "        circle = Circle()  # create a circle\n",
    "        square = Square()  # create a square\n",
    "\n",
    "        self.play(Create(square))  # show the square on screen\n",
    "        self.play(square.animate.rotate(PI / 4))  # rotate the square\n",
    "        self.play(\n",
    "            ReplacementTransform(square, circle)\n",
    "        )  # transform the square into a circle\n",
    "        self.play(\n",
    "            circle.animate.set_fill(PINK, opacity=0.5)\n",
    "        )  # color the circle on screen\n",
    "\n",
    "class DifferentRotations(Scene):\n",
    "    def construct(self):\n",
    "        left_square = Square(color=BLUE, fill_opacity=0.7).shift(2 * LEFT)\n",
    "        right_square = Square(color=GREEN, fill_opacity=0.7).shift(2 * RIGHT)\n",
    "        self.play(\n",
    "            left_square.animate.rotate(PI), Rotate(right_square, angle=PI), run_time=2\n",
    "        )\n",
    "        self.wait()\n",
    "\n",
    "%manim -qm -v WARNING DifferentRotations"
   ]
  },
  {
   "cell_type": "code",
   "execution_count": 35,
   "metadata": {},
   "outputs": [
    {
     "name": "stderr",
     "output_type": "stream",
     "text": [
      "                                                                                       \r"
     ]
    },
    {
     "data": {
      "text/html": [
       "<video src=\"media\\jupyter\\RunTime@2023-12-15@11-40-50.mp4\" controls autoplay loop style=\"max-width: 60%;\"  >\n",
       "      Your browser does not support the <code>video</code> element.\n",
       "    </video>"
      ],
      "text/plain": [
       "<IPython.core.display.Video object>"
      ]
     },
     "metadata": {},
     "output_type": "display_data"
    }
   ],
   "source": [
    "class RunTime(Scene):\n",
    "    def construct(self):\n",
    "        square = Square()\n",
    "        self.add(square)\n",
    "        self.play(square.animate.shift(UP), run_time=1.6)\n",
    "        self.wait(1)\n",
    "\n",
    "%manim -qm -v WARNING RunTime"
   ]
  },
  {
   "cell_type": "code",
   "execution_count": 47,
   "metadata": {},
   "outputs": [
    {
     "name": "stderr",
     "output_type": "stream",
     "text": [
      "                                                                        \r"
     ]
    },
    {
     "data": {
      "text/html": [
       "<video src=\"media\\jupyter\\CountingScene@2023-12-15@11-47-17.mp4\" controls autoplay loop style=\"max-width: 60%;\"  >\n",
       "      Your browser does not support the <code>video</code> element.\n",
       "    </video>"
      ],
      "text/plain": [
       "<IPython.core.display.Video object>"
      ]
     },
     "metadata": {},
     "output_type": "display_data"
    }
   ],
   "source": [
    "class Count(Animation):\n",
    "    def __init__(self, number: DecimalNumber, start: float, end: float, **kwargs) -> None:\n",
    "        # Pass number as the mobject of the animation\n",
    "        super().__init__(number,  **kwargs)\n",
    "        # Set start and end\n",
    "        self.start = start\n",
    "        self.end = end\n",
    "\n",
    "    def interpolate_mobject(self, alpha: float) -> None:\n",
    "        # Set value of DecimalNumber according to alpha\n",
    "        value = self.start + (alpha * (self.end - self.start))\n",
    "        self.mobject.set_value(value)\n",
    "\n",
    "\n",
    "class CountingScene(Scene):\n",
    "    def construct(self):\n",
    "        # Create Decimal Number and add it to scene\n",
    "        number = DecimalNumber().set_color(WHITE).scale(5)\n",
    "        # Add an updater to keep the DecimalNumber centered as its value changes\n",
    "        number.add_updater(lambda number: number.move_to(ORIGIN))\n",
    "\n",
    "        self.add(number)\n",
    "\n",
    "        self.wait()\n",
    "\n",
    "        # Play the Count Animation to count from 0 to 100 in 4 seconds\n",
    "        self.play(Count(number, 0, 100), run_time=4, rate_func=rate_functions.linear)\n",
    "\n",
    "        self.wait()\n",
    "\n",
    "%manim -qm -v WARNING CountingScene"
   ]
  },
  {
   "cell_type": "code",
   "execution_count": 7,
   "metadata": {},
   "outputs": [
    {
     "name": "stderr",
     "output_type": "stream",
     "text": [
      "                                                                                                   \r"
     ]
    },
    {
     "data": {
      "text/html": [
       "<video src=\"media\\jupyter\\RateFunctions1Example@2024-05-07@13-52-51.mp4\" controls autoplay loop style=\"max-width: 60%;\"  >\n",
       "      Your browser does not support the <code>video</code> element.\n",
       "    </video>"
      ],
      "text/plain": [
       "<IPython.core.display.Video object>"
      ]
     },
     "metadata": {},
     "output_type": "display_data"
    }
   ],
   "source": [
    "class RateFunctions1Example(Scene):\n",
    "    def construct(self):\n",
    "        line1 = Line(3*LEFT, 3*RIGHT).shift(UP).set_color(RED)\n",
    "        line2 = Line(3*LEFT, 3*RIGHT).set_color(GREEN)\n",
    "        line3 = Line(3*LEFT, 3*RIGHT).shift(DOWN).set_color(BLUE)\n",
    "        line4 = Line(3*LEFT, 3*RIGHT).shift(2 * DOWN).set_color(YELLOW)\n",
    "\n",
    "        dot1 = Dot().move_to(line1.get_left())\n",
    "        dot2 = Dot().move_to(line2.get_left())\n",
    "        dot3 = Dot().move_to(line3.get_left())\n",
    "        dot4 = Dot().move_to(line4.get_left())\n",
    "\n",
    "        label1 = Tex(\"Ease In\").next_to(line1, RIGHT)\n",
    "        label2 = Tex(\"Ease out\").next_to(line2, RIGHT)\n",
    "        label3 = Tex(\"Ease In Out\").next_to(line3, RIGHT)\n",
    "        label4 = Tex(\"Ease Out Expo\").next_to(line4, RIGHT)\n",
    "\n",
    "        self.play(\n",
    "            FadeIn(VGroup(line1, line2, line3, line4)),\n",
    "            FadeIn(VGroup(dot1, dot2, dot3, dot4)),\n",
    "            Write(VGroup(label1, label2, label3, label4)),\n",
    "        )\n",
    "        self.play(\n",
    "            MoveAlongPath(dot1, line1, rate_func=rate_functions.ease_in_sine),\n",
    "            MoveAlongPath(dot2, line2, rate_func=rate_functions.ease_out_sine),\n",
    "            MoveAlongPath(dot3, line3, rate_func=rate_functions.ease_in_out_sine),\n",
    "            MoveAlongPath(dot4, line4, rate_func=rate_functions.ease_out_expo),\n",
    "            run_time=7\n",
    "        )\n",
    "        self.wait()\n",
    "\n",
    "%manim -qm -v WARNING RateFunctions1Example"
   ]
  },
  {
   "cell_type": "code",
   "execution_count": 59,
   "metadata": {},
   "outputs": [
    {
     "name": "stderr",
     "output_type": "stream",
     "text": [
      "                                                                                     \r"
     ]
    },
    {
     "data": {
      "text/html": [
       "<video src=\"media\\jupyter\\MovingCameraOnGraph@2023-12-15@11-57-25.mp4\" controls autoplay loop style=\"max-width: 60%;\"  >\n",
       "      Your browser does not support the <code>video</code> element.\n",
       "    </video>"
      ],
      "text/plain": [
       "<IPython.core.display.Video object>"
      ]
     },
     "metadata": {},
     "output_type": "display_data"
    }
   ],
   "source": [
    "class MovingCameraOnGraph(MovingCameraScene):\n",
    "    def construct(self):\n",
    "        self.camera.frame.save_state()\n",
    "\n",
    "        ax = Axes(x_range=[-1, 20], y_range=[-1, 10])\n",
    "        graph = ax.plot(lambda x: np.sin(x), color=WHITE, x_range=[0, 6 * PI])\n",
    "\n",
    "        dot_1 = Dot(ax.i2gp(graph.t_min, graph))\n",
    "        dot_2 = Dot(ax.i2gp(graph.t_max, graph))\n",
    "        self.add(ax, graph, dot_1, dot_2)\n",
    "\n",
    "        self.play(self.camera.frame.animate.scale(0.5).move_to(dot_1))\n",
    "        self.play(self.camera.frame.animate.move_to(dot_2))\n",
    "        self.play(Restore(self.camera.frame))\n",
    "        self.wait()\n",
    "\n",
    "%manim -qm -v WARNING MovingCameraOnGraph"
   ]
  },
  {
   "cell_type": "code",
   "execution_count": 48,
   "metadata": {},
   "outputs": [
    {
     "name": "stderr",
     "output_type": "stream",
     "text": [
      "                                                                                     \r"
     ]
    },
    {
     "data": {
      "text/html": [
       "<video src=\"media\\jupyter\\MovingCameraOnDot@2024-05-07@14-58-29.mp4\" controls autoplay loop style=\"max-width: 60%;\"  >\n",
       "      Your browser does not support the <code>video</code> element.\n",
       "    </video>"
      ],
      "text/plain": [
       "<IPython.core.display.Video object>"
      ]
     },
     "metadata": {},
     "output_type": "display_data"
    },
    {
     "data": {
      "text/html": [
       "<pre style=\"white-space:pre;overflow-x:auto;line-height:normal;font-family:Menlo,'DejaVu Sans Mono',consolas,'Courier New',monospace\"><span style=\"color: #7fbfbf; text-decoration-color: #7fbfbf\">[05/07/24 14:58:29] </span><span style=\"color: #800000; text-decoration-color: #800000\">WARNING </span> The short form of show_in_file_browser is deprecated and will be moved  <a href=\"file://c:\\Users\\mcro0016\\anaconda3\\envs\\manim-env\\Lib\\site-packages\\manim\\cli\\render\\commands.py\" target=\"_blank\"><span style=\"color: #7f7f7f; text-decoration-color: #7f7f7f\">commands.py</span></a><span style=\"color: #7f7f7f; text-decoration-color: #7f7f7f\">:</span><a href=\"file://c:\\Users\\mcro0016\\anaconda3\\envs\\manim-env\\Lib\\site-packages\\manim\\cli\\render\\commands.py#58\" target=\"_blank\"><span style=\"color: #7f7f7f; text-decoration-color: #7f7f7f\">58</span></a>\n",
       "<span style=\"color: #7fbfbf; text-decoration-color: #7fbfbf\">                    </span>         to support --format.                                                    <span style=\"color: #7f7f7f; text-decoration-color: #7f7f7f\">              </span>\n",
       "</pre>\n"
      ],
      "text/plain": [
       "\u001b[2;36m[05/07/24 14:58:29]\u001b[0m\u001b[2;36m \u001b[0m\u001b[31mWARNING \u001b[0m The short form of show_in_file_browser is deprecated and will be moved  \u001b]8;id=759530;file://c:\\Users\\mcro0016\\anaconda3\\envs\\manim-env\\Lib\\site-packages\\manim\\cli\\render\\commands.py\u001b\\\u001b[2mcommands.py\u001b[0m\u001b]8;;\u001b\\\u001b[2m:\u001b[0m\u001b]8;id=586483;file://c:\\Users\\mcro0016\\anaconda3\\envs\\manim-env\\Lib\\site-packages\\manim\\cli\\render\\commands.py#58\u001b\\\u001b[2m58\u001b[0m\u001b]8;;\u001b\\\n",
       "\u001b[2;36m                    \u001b[0m         to support --format.                                                    \u001b[2m              \u001b[0m\n"
      ]
     },
     "metadata": {},
     "output_type": "display_data"
    },
    {
     "data": {
      "text/html": [
       "<pre style=\"white-space:pre;overflow-x:auto;line-height:normal;font-family:Menlo,'DejaVu Sans Mono',consolas,'Courier New',monospace\"><span style=\"color: #7fbfbf; text-decoration-color: #7fbfbf\">                    </span><span style=\"color: #008000; text-decoration-color: #008000\">INFO    </span> Animation <span style=\"color: #008000; text-decoration-color: #008000\">0</span> : Using cached data <span style=\"font-weight: bold\">(</span>hash :                           <a href=\"file://c:\\Users\\mcro0016\\anaconda3\\envs\\manim-env\\Lib\\site-packages\\manim\\renderer\\cairo_renderer.py\" target=\"_blank\"><span style=\"color: #7f7f7f; text-decoration-color: #7f7f7f\">cairo_renderer.py</span></a><span style=\"color: #7f7f7f; text-decoration-color: #7f7f7f\">:</span><a href=\"file://c:\\Users\\mcro0016\\anaconda3\\envs\\manim-env\\Lib\\site-packages\\manim\\renderer\\cairo_renderer.py#78\" target=\"_blank\"><span style=\"color: #7f7f7f; text-decoration-color: #7f7f7f\">78</span></a>\n",
       "<span style=\"color: #7fbfbf; text-decoration-color: #7fbfbf\">                    </span>         3985699725_2832672583_1304034579<span style=\"font-weight: bold\">)</span>                                 <span style=\"color: #7f7f7f; text-decoration-color: #7f7f7f\">                    </span>\n",
       "</pre>\n"
      ],
      "text/plain": [
       "\u001b[2;36m                   \u001b[0m\u001b[2;36m \u001b[0m\u001b[32mINFO    \u001b[0m Animation \u001b[32m0\u001b[0m : Using cached data \u001b[1m(\u001b[0mhash :                           \u001b]8;id=314932;file://c:\\Users\\mcro0016\\anaconda3\\envs\\manim-env\\Lib\\site-packages\\manim\\renderer\\cairo_renderer.py\u001b\\\u001b[2mcairo_renderer.py\u001b[0m\u001b]8;;\u001b\\\u001b[2m:\u001b[0m\u001b]8;id=542688;file://c:\\Users\\mcro0016\\anaconda3\\envs\\manim-env\\Lib\\site-packages\\manim\\renderer\\cairo_renderer.py#78\u001b\\\u001b[2m78\u001b[0m\u001b]8;;\u001b\\\n",
       "\u001b[2;36m                    \u001b[0m         3985699725_2832672583_1304034579\u001b[1m)\u001b[0m                                 \u001b[2m                    \u001b[0m\n"
      ]
     },
     "metadata": {},
     "output_type": "display_data"
    },
    {
     "name": "stderr",
     "output_type": "stream",
     "text": [
      "                                                                                     \r"
     ]
    },
    {
     "data": {
      "text/html": [
       "<pre style=\"white-space:pre;overflow-x:auto;line-height:normal;font-family:Menlo,'DejaVu Sans Mono',consolas,'Courier New',monospace\"><span style=\"color: #7fbfbf; text-decoration-color: #7fbfbf\">                    </span><span style=\"color: #008000; text-decoration-color: #008000\">INFO    </span> Animation <span style=\"color: #008000; text-decoration-color: #008000\">1</span> : Using cached data <span style=\"font-weight: bold\">(</span>hash :                           <a href=\"file://c:\\Users\\mcro0016\\anaconda3\\envs\\manim-env\\Lib\\site-packages\\manim\\renderer\\cairo_renderer.py\" target=\"_blank\"><span style=\"color: #7f7f7f; text-decoration-color: #7f7f7f\">cairo_renderer.py</span></a><span style=\"color: #7f7f7f; text-decoration-color: #7f7f7f\">:</span><a href=\"file://c:\\Users\\mcro0016\\anaconda3\\envs\\manim-env\\Lib\\site-packages\\manim\\renderer\\cairo_renderer.py#78\" target=\"_blank\"><span style=\"color: #7f7f7f; text-decoration-color: #7f7f7f\">78</span></a>\n",
       "<span style=\"color: #7fbfbf; text-decoration-color: #7fbfbf\">                    </span>         947243010_3066809133_1877118489<span style=\"font-weight: bold\">)</span>                                  <span style=\"color: #7f7f7f; text-decoration-color: #7f7f7f\">                    </span>\n",
       "</pre>\n"
      ],
      "text/plain": [
       "\u001b[2;36m                   \u001b[0m\u001b[2;36m \u001b[0m\u001b[32mINFO    \u001b[0m Animation \u001b[32m1\u001b[0m : Using cached data \u001b[1m(\u001b[0mhash :                           \u001b]8;id=130352;file://c:\\Users\\mcro0016\\anaconda3\\envs\\manim-env\\Lib\\site-packages\\manim\\renderer\\cairo_renderer.py\u001b\\\u001b[2mcairo_renderer.py\u001b[0m\u001b]8;;\u001b\\\u001b[2m:\u001b[0m\u001b]8;id=601028;file://c:\\Users\\mcro0016\\anaconda3\\envs\\manim-env\\Lib\\site-packages\\manim\\renderer\\cairo_renderer.py#78\u001b\\\u001b[2m78\u001b[0m\u001b]8;;\u001b\\\n",
       "\u001b[2;36m                    \u001b[0m         947243010_3066809133_1877118489\u001b[1m)\u001b[0m                                  \u001b[2m                    \u001b[0m\n"
      ]
     },
     "metadata": {},
     "output_type": "display_data"
    },
    {
     "name": "stderr",
     "output_type": "stream",
     "text": [
      "                                                                                               \r"
     ]
    },
    {
     "data": {
      "text/html": [
       "<pre style=\"white-space:pre;overflow-x:auto;line-height:normal;font-family:Menlo,'DejaVu Sans Mono',consolas,'Courier New',monospace\"><span style=\"color: #7fbfbf; text-decoration-color: #7fbfbf\">[05/07/24 14:58:31] </span><span style=\"color: #008000; text-decoration-color: #008000\">INFO    </span> Animation <span style=\"color: #008000; text-decoration-color: #008000\">2</span> : Partial movie file written in                   <a href=\"file://c:\\Users\\mcro0016\\anaconda3\\envs\\manim-env\\Lib\\site-packages\\manim\\scene\\scene_file_writer.py\" target=\"_blank\"><span style=\"color: #7f7f7f; text-decoration-color: #7f7f7f\">scene_file_writer.py</span></a><span style=\"color: #7f7f7f; text-decoration-color: #7f7f7f\">:</span><a href=\"file://c:\\Users\\mcro0016\\anaconda3\\envs\\manim-env\\Lib\\site-packages\\manim\\scene\\scene_file_writer.py#527\" target=\"_blank\"><span style=\"color: #7f7f7f; text-decoration-color: #7f7f7f\">527</span></a>\n",
       "<span style=\"color: #7fbfbf; text-decoration-color: #7fbfbf\">                    </span>         <span style=\"color: #008000; text-decoration-color: #008000\">'C:\\Users\\mcro0016\\Documents\\manim\\media\\videos\\manim\\720p30\\</span> <span style=\"color: #7f7f7f; text-decoration-color: #7f7f7f\">                        </span>\n",
       "<span style=\"color: #7fbfbf; text-decoration-color: #7fbfbf\">                    </span>         <span style=\"color: #008000; text-decoration-color: #008000\">partial_movie_files\\MovingCameraOnDot\\2289622710_3454784898_1</span> <span style=\"color: #7f7f7f; text-decoration-color: #7f7f7f\">                        </span>\n",
       "<span style=\"color: #7fbfbf; text-decoration-color: #7fbfbf\">                    </span>         <span style=\"color: #008000; text-decoration-color: #008000\">740577222.mp4'</span>                                                <span style=\"color: #7f7f7f; text-decoration-color: #7f7f7f\">                        </span>\n",
       "</pre>\n"
      ],
      "text/plain": [
       "\u001b[2;36m[05/07/24 14:58:31]\u001b[0m\u001b[2;36m \u001b[0m\u001b[32mINFO    \u001b[0m Animation \u001b[32m2\u001b[0m : Partial movie file written in                   \u001b]8;id=523301;file://c:\\Users\\mcro0016\\anaconda3\\envs\\manim-env\\Lib\\site-packages\\manim\\scene\\scene_file_writer.py\u001b\\\u001b[2mscene_file_writer.py\u001b[0m\u001b]8;;\u001b\\\u001b[2m:\u001b[0m\u001b]8;id=818631;file://c:\\Users\\mcro0016\\anaconda3\\envs\\manim-env\\Lib\\site-packages\\manim\\scene\\scene_file_writer.py#527\u001b\\\u001b[2m527\u001b[0m\u001b]8;;\u001b\\\n",
       "\u001b[2;36m                    \u001b[0m         \u001b[32m'C:\\Users\\mcro0016\\Documents\\manim\\media\\videos\\manim\\720p30\\\u001b[0m \u001b[2m                        \u001b[0m\n",
       "\u001b[2;36m                    \u001b[0m         \u001b[32mpartial_movie_files\\MovingCameraOnDot\\2289622710_3454784898_1\u001b[0m \u001b[2m                        \u001b[0m\n",
       "\u001b[2;36m                    \u001b[0m         \u001b[32m740577222.mp4'\u001b[0m                                                \u001b[2m                        \u001b[0m\n"
      ]
     },
     "metadata": {},
     "output_type": "display_data"
    },
    {
     "data": {
      "text/html": [
       "<pre style=\"white-space:pre;overflow-x:auto;line-height:normal;font-family:Menlo,'DejaVu Sans Mono',consolas,'Courier New',monospace\"><span style=\"color: #7fbfbf; text-decoration-color: #7fbfbf\">                    </span><span style=\"color: #008000; text-decoration-color: #008000\">INFO    </span> Animation <span style=\"color: #008000; text-decoration-color: #008000\">3</span> : Using cached data <span style=\"font-weight: bold\">(</span>hash :                           <a href=\"file://c:\\Users\\mcro0016\\anaconda3\\envs\\manim-env\\Lib\\site-packages\\manim\\renderer\\cairo_renderer.py\" target=\"_blank\"><span style=\"color: #7f7f7f; text-decoration-color: #7f7f7f\">cairo_renderer.py</span></a><span style=\"color: #7f7f7f; text-decoration-color: #7f7f7f\">:</span><a href=\"file://c:\\Users\\mcro0016\\anaconda3\\envs\\manim-env\\Lib\\site-packages\\manim\\renderer\\cairo_renderer.py#78\" target=\"_blank\"><span style=\"color: #7f7f7f; text-decoration-color: #7f7f7f\">78</span></a>\n",
       "<span style=\"color: #7fbfbf; text-decoration-color: #7fbfbf\">                    </span>         361026338_2144201532_2284168062<span style=\"font-weight: bold\">)</span>                                  <span style=\"color: #7f7f7f; text-decoration-color: #7f7f7f\">                    </span>\n",
       "</pre>\n"
      ],
      "text/plain": [
       "\u001b[2;36m                   \u001b[0m\u001b[2;36m \u001b[0m\u001b[32mINFO    \u001b[0m Animation \u001b[32m3\u001b[0m : Using cached data \u001b[1m(\u001b[0mhash :                           \u001b]8;id=236466;file://c:\\Users\\mcro0016\\anaconda3\\envs\\manim-env\\Lib\\site-packages\\manim\\renderer\\cairo_renderer.py\u001b\\\u001b[2mcairo_renderer.py\u001b[0m\u001b]8;;\u001b\\\u001b[2m:\u001b[0m\u001b]8;id=600726;file://c:\\Users\\mcro0016\\anaconda3\\envs\\manim-env\\Lib\\site-packages\\manim\\renderer\\cairo_renderer.py#78\u001b\\\u001b[2m78\u001b[0m\u001b]8;;\u001b\\\n",
       "\u001b[2;36m                    \u001b[0m         361026338_2144201532_2284168062\u001b[1m)\u001b[0m                                  \u001b[2m                    \u001b[0m\n"
      ]
     },
     "metadata": {},
     "output_type": "display_data"
    },
    {
     "name": "stderr",
     "output_type": "stream",
     "text": [
      "                                                                            \r"
     ]
    },
    {
     "data": {
      "text/html": [
       "<pre style=\"white-space:pre;overflow-x:auto;line-height:normal;font-family:Menlo,'DejaVu Sans Mono',consolas,'Courier New',monospace\"><span style=\"color: #7fbfbf; text-decoration-color: #7fbfbf\">                    </span><span style=\"color: #008000; text-decoration-color: #008000\">INFO    </span> Animation <span style=\"color: #008000; text-decoration-color: #008000\">4</span> : Partial movie file written in                   <a href=\"file://c:\\Users\\mcro0016\\anaconda3\\envs\\manim-env\\Lib\\site-packages\\manim\\scene\\scene_file_writer.py\" target=\"_blank\"><span style=\"color: #7f7f7f; text-decoration-color: #7f7f7f\">scene_file_writer.py</span></a><span style=\"color: #7f7f7f; text-decoration-color: #7f7f7f\">:</span><a href=\"file://c:\\Users\\mcro0016\\anaconda3\\envs\\manim-env\\Lib\\site-packages\\manim\\scene\\scene_file_writer.py#527\" target=\"_blank\"><span style=\"color: #7f7f7f; text-decoration-color: #7f7f7f\">527</span></a>\n",
       "<span style=\"color: #7fbfbf; text-decoration-color: #7fbfbf\">                    </span>         <span style=\"color: #008000; text-decoration-color: #008000\">'C:\\Users\\mcro0016\\Documents\\manim\\media\\videos\\manim\\720p30\\</span> <span style=\"color: #7f7f7f; text-decoration-color: #7f7f7f\">                        </span>\n",
       "<span style=\"color: #7fbfbf; text-decoration-color: #7fbfbf\">                    </span>         <span style=\"color: #008000; text-decoration-color: #008000\">partial_movie_files\\MovingCameraOnDot\\4228471611_3467822883_2</span> <span style=\"color: #7f7f7f; text-decoration-color: #7f7f7f\">                        </span>\n",
       "<span style=\"color: #7fbfbf; text-decoration-color: #7fbfbf\">                    </span>         <span style=\"color: #008000; text-decoration-color: #008000\">756071026.mp4'</span>                                                <span style=\"color: #7f7f7f; text-decoration-color: #7f7f7f\">                        </span>\n",
       "</pre>\n"
      ],
      "text/plain": [
       "\u001b[2;36m                   \u001b[0m\u001b[2;36m \u001b[0m\u001b[32mINFO    \u001b[0m Animation \u001b[32m4\u001b[0m : Partial movie file written in                   \u001b]8;id=700632;file://c:\\Users\\mcro0016\\anaconda3\\envs\\manim-env\\Lib\\site-packages\\manim\\scene\\scene_file_writer.py\u001b\\\u001b[2mscene_file_writer.py\u001b[0m\u001b]8;;\u001b\\\u001b[2m:\u001b[0m\u001b]8;id=727419;file://c:\\Users\\mcro0016\\anaconda3\\envs\\manim-env\\Lib\\site-packages\\manim\\scene\\scene_file_writer.py#527\u001b\\\u001b[2m527\u001b[0m\u001b]8;;\u001b\\\n",
       "\u001b[2;36m                    \u001b[0m         \u001b[32m'C:\\Users\\mcro0016\\Documents\\manim\\media\\videos\\manim\\720p30\\\u001b[0m \u001b[2m                        \u001b[0m\n",
       "\u001b[2;36m                    \u001b[0m         \u001b[32mpartial_movie_files\\MovingCameraOnDot\\4228471611_3467822883_2\u001b[0m \u001b[2m                        \u001b[0m\n",
       "\u001b[2;36m                    \u001b[0m         \u001b[32m756071026.mp4'\u001b[0m                                                \u001b[2m                        \u001b[0m\n"
      ]
     },
     "metadata": {},
     "output_type": "display_data"
    },
    {
     "data": {
      "text/html": [
       "<pre style=\"white-space:pre;overflow-x:auto;line-height:normal;font-family:Menlo,'DejaVu Sans Mono',consolas,'Courier New',monospace\"><span style=\"color: #7fbfbf; text-decoration-color: #7fbfbf\">                    </span><span style=\"color: #008000; text-decoration-color: #008000\">INFO    </span> Combining to Movie file.                                      <a href=\"file://c:\\Users\\mcro0016\\anaconda3\\envs\\manim-env\\Lib\\site-packages\\manim\\scene\\scene_file_writer.py\" target=\"_blank\"><span style=\"color: #7f7f7f; text-decoration-color: #7f7f7f\">scene_file_writer.py</span></a><span style=\"color: #7f7f7f; text-decoration-color: #7f7f7f\">:</span><a href=\"file://c:\\Users\\mcro0016\\anaconda3\\envs\\manim-env\\Lib\\site-packages\\manim\\scene\\scene_file_writer.py#617\" target=\"_blank\"><span style=\"color: #7f7f7f; text-decoration-color: #7f7f7f\">617</span></a>\n",
       "</pre>\n"
      ],
      "text/plain": [
       "\u001b[2;36m                   \u001b[0m\u001b[2;36m \u001b[0m\u001b[32mINFO    \u001b[0m Combining to Movie file.                                      \u001b]8;id=754084;file://c:\\Users\\mcro0016\\anaconda3\\envs\\manim-env\\Lib\\site-packages\\manim\\scene\\scene_file_writer.py\u001b\\\u001b[2mscene_file_writer.py\u001b[0m\u001b]8;;\u001b\\\u001b[2m:\u001b[0m\u001b]8;id=25798;file://c:\\Users\\mcro0016\\anaconda3\\envs\\manim-env\\Lib\\site-packages\\manim\\scene\\scene_file_writer.py#617\u001b\\\u001b[2m617\u001b[0m\u001b]8;;\u001b\\\n"
      ]
     },
     "metadata": {},
     "output_type": "display_data"
    },
    {
     "data": {
      "text/html": [
       "<pre style=\"white-space:pre;overflow-x:auto;line-height:normal;font-family:Menlo,'DejaVu Sans Mono',consolas,'Courier New',monospace\"><span style=\"color: #7fbfbf; text-decoration-color: #7fbfbf\">                    </span><span style=\"color: #008000; text-decoration-color: #008000\">INFO    </span>                                                               <a href=\"file://c:\\Users\\mcro0016\\anaconda3\\envs\\manim-env\\Lib\\site-packages\\manim\\scene\\scene_file_writer.py\" target=\"_blank\"><span style=\"color: #7f7f7f; text-decoration-color: #7f7f7f\">scene_file_writer.py</span></a><span style=\"color: #7f7f7f; text-decoration-color: #7f7f7f\">:</span><a href=\"file://c:\\Users\\mcro0016\\anaconda3\\envs\\manim-env\\Lib\\site-packages\\manim\\scene\\scene_file_writer.py#735\" target=\"_blank\"><span style=\"color: #7f7f7f; text-decoration-color: #7f7f7f\">735</span></a>\n",
       "<span style=\"color: #7fbfbf; text-decoration-color: #7fbfbf\">                    </span>         <span style=\"color: #808000; text-decoration-color: #808000; font-weight: bold\">File</span> ready at                                                 <span style=\"color: #7f7f7f; text-decoration-color: #7f7f7f\">                        </span>\n",
       "<span style=\"color: #7fbfbf; text-decoration-color: #7fbfbf\">                    </span>         <span style=\"color: #008000; text-decoration-color: #008000\">'C:\\Users\\mcro0016\\Documents\\manim\\media\\videos\\manim\\720p30\\</span> <span style=\"color: #7f7f7f; text-decoration-color: #7f7f7f\">                        </span>\n",
       "<span style=\"color: #7fbfbf; text-decoration-color: #7fbfbf\">                    </span>         <span style=\"color: #008000; text-decoration-color: #008000\">MovingCameraOnDot.mp4'</span>                                        <span style=\"color: #7f7f7f; text-decoration-color: #7f7f7f\">                        </span>\n",
       "<span style=\"color: #7fbfbf; text-decoration-color: #7fbfbf\">                    </span>                                                                       <span style=\"color: #7f7f7f; text-decoration-color: #7f7f7f\">                        </span>\n",
       "</pre>\n"
      ],
      "text/plain": [
       "\u001b[2;36m                   \u001b[0m\u001b[2;36m \u001b[0m\u001b[32mINFO    \u001b[0m                                                               \u001b]8;id=368165;file://c:\\Users\\mcro0016\\anaconda3\\envs\\manim-env\\Lib\\site-packages\\manim\\scene\\scene_file_writer.py\u001b\\\u001b[2mscene_file_writer.py\u001b[0m\u001b]8;;\u001b\\\u001b[2m:\u001b[0m\u001b]8;id=307137;file://c:\\Users\\mcro0016\\anaconda3\\envs\\manim-env\\Lib\\site-packages\\manim\\scene\\scene_file_writer.py#735\u001b\\\u001b[2m735\u001b[0m\u001b]8;;\u001b\\\n",
       "\u001b[2;36m                    \u001b[0m         \u001b[1;33mFile\u001b[0m ready at                                                 \u001b[2m                        \u001b[0m\n",
       "\u001b[2;36m                    \u001b[0m         \u001b[32m'C:\\Users\\mcro0016\\Documents\\manim\\media\\videos\\manim\\720p30\\\u001b[0m \u001b[2m                        \u001b[0m\n",
       "\u001b[2;36m                    \u001b[0m         \u001b[32mMovingCameraOnDot.mp4'\u001b[0m                                        \u001b[2m                        \u001b[0m\n",
       "\u001b[2;36m                    \u001b[0m                                                                       \u001b[2m                        \u001b[0m\n"
      ]
     },
     "metadata": {},
     "output_type": "display_data"
    },
    {
     "data": {
      "text/html": [
       "<pre style=\"white-space:pre;overflow-x:auto;line-height:normal;font-family:Menlo,'DejaVu Sans Mono',consolas,'Courier New',monospace\"><span style=\"color: #7fbfbf; text-decoration-color: #7fbfbf\">                    </span><span style=\"color: #008000; text-decoration-color: #008000\">INFO    </span> <span style=\"color: #808000; text-decoration-color: #808000; font-weight: bold\">Rendered</span> MovingCameraOnDot                                                <a href=\"file://c:\\Users\\mcro0016\\anaconda3\\envs\\manim-env\\Lib\\site-packages\\manim\\scene\\scene.py\" target=\"_blank\"><span style=\"color: #7f7f7f; text-decoration-color: #7f7f7f\">scene.py</span></a><span style=\"color: #7f7f7f; text-decoration-color: #7f7f7f\">:</span><a href=\"file://c:\\Users\\mcro0016\\anaconda3\\envs\\manim-env\\Lib\\site-packages\\manim\\scene\\scene.py#241\" target=\"_blank\"><span style=\"color: #7f7f7f; text-decoration-color: #7f7f7f\">241</span></a>\n",
       "<span style=\"color: #7fbfbf; text-decoration-color: #7fbfbf\">                    </span>         <span style=\"color: #808000; text-decoration-color: #808000; font-weight: bold\">Played</span> <span style=\"color: #008000; text-decoration-color: #008000\">5</span> <span style=\"color: #808000; text-decoration-color: #808000; font-weight: bold\">animations</span>                                                       <span style=\"color: #7f7f7f; text-decoration-color: #7f7f7f\">            </span>\n",
       "</pre>\n"
      ],
      "text/plain": [
       "\u001b[2;36m                   \u001b[0m\u001b[2;36m \u001b[0m\u001b[32mINFO    \u001b[0m \u001b[1;33mRendered\u001b[0m MovingCameraOnDot                                                \u001b]8;id=405999;file://c:\\Users\\mcro0016\\anaconda3\\envs\\manim-env\\Lib\\site-packages\\manim\\scene\\scene.py\u001b\\\u001b[2mscene.py\u001b[0m\u001b]8;;\u001b\\\u001b[2m:\u001b[0m\u001b]8;id=849070;file://c:\\Users\\mcro0016\\anaconda3\\envs\\manim-env\\Lib\\site-packages\\manim\\scene\\scene.py#241\u001b\\\u001b[2m241\u001b[0m\u001b]8;;\u001b\\\n",
       "\u001b[2;36m                    \u001b[0m         \u001b[1;33mPlayed\u001b[0m \u001b[32m5\u001b[0m \u001b[1;33manimations\u001b[0m                                                       \u001b[2m            \u001b[0m\n"
      ]
     },
     "metadata": {},
     "output_type": "display_data"
    },
    {
     "data": {
      "text/html": [
       "<video src=\"media\\jupyter\\MovingCameraOnDot@2024-05-07@14-58-31.mp4\" controls autoplay loop style=\"max-width: 60%;\"  >\n",
       "      Your browser does not support the <code>video</code> element.\n",
       "    </video>"
      ],
      "text/plain": [
       "<IPython.core.display.Video object>"
      ]
     },
     "metadata": {},
     "output_type": "display_data"
    }
   ],
   "source": [
    "class MovingCameraOnDot(MovingCameraScene):\n",
    "    def construct(self):\n",
    "        self.camera.frame.save_state()\n",
    "\n",
    "        # Axes and graph definition\n",
    "        ax = Axes(x_range=[-1, 20], y_range=[-1, 1])\n",
    "        graph = ax.plot(lambda x: np.sin(x), color=WHITE, x_range=[0, 6 * PI])\n",
    "\n",
    "        # Moving dot\n",
    "        moving_dot = Dot(ax.i2gp(0, graph), color=WHITE)\n",
    "\n",
    "        # Add elements to the scene\n",
    "        self.add(ax, graph, moving_dot)\n",
    "\n",
    "        # ValueTracker to control the position of the dot\n",
    "        dot_position = ValueTracker(0)\n",
    "\n",
    "        # Custom function for color interpolation\n",
    "        def color_gradient(y):\n",
    "            if y >= 0:\n",
    "                return interpolate_color(WHITE, RED, y)\n",
    "            else:\n",
    "                return interpolate_color(WHITE, BLUE, -y)\n",
    "\n",
    "        # Update function for the moving dot\n",
    "        def update_dot(mob):\n",
    "            new_x = dot_position.get_value()\n",
    "            new_y = np.sin(new_x)\n",
    "            mob.move_to(ax.i2gp(new_x, graph))\n",
    "            mob.set_color(color_gradient(new_y))\n",
    "\n",
    "        # Apply the update function to the moving dot\n",
    "        moving_dot.add_updater(update_dot)\n",
    "\n",
    "        # Update function for the camera to follow the dot\n",
    "        def update_camera(mob):\n",
    "            mob.move_to(moving_dot.get_center())\n",
    "\n",
    "        # Start with a wide view of the graph\n",
    "        self.play(self.camera.frame.animate.set_width(ax.width * 1.2).move_to(ax.get_center()))\n",
    "\n",
    "        # Zoom into the starting position of the dot\n",
    "        self.play(self.camera.frame.animate.scale(0.5).move_to(moving_dot))\n",
    "\n",
    "        # Apply the update function to the camera frame\n",
    "        self.camera.frame.add_updater(update_camera)\n",
    "\n",
    "        # Animate the dot movement along with camera panning\n",
    "        self.play(dot_position.animate.set_value(6 * PI), run_time=8, rate_func=rate_functions.linear)\n",
    "\n",
    "        # Restore the camera frame and remove updaters\n",
    "        self.camera.frame.remove_updater(update_camera)\n",
    "        self.play(Restore(self.camera.frame))\n",
    "        moving_dot.remove_updater(update_dot)\n",
    "        self.wait()\n",
    "\n",
    "%manim -qm -v WARNING MovingCameraOnDot\n",
    "%manim -qm -f MovingCameraOnDot"
   ]
  },
  {
   "cell_type": "code",
   "execution_count": 134,
   "metadata": {},
   "outputs": [
    {
     "name": "stderr",
     "output_type": "stream",
     "text": [
      "                                                                                              \r"
     ]
    },
    {
     "data": {
      "text/html": [
       "<video src=\"media\\jupyter\\AnalogToDigital@2024-05-10@10-34-37.mp4\" controls autoplay loop style=\"max-width: 60%;\"  >\n",
       "      Your browser does not support the <code>video</code> element.\n",
       "    </video>"
      ],
      "text/plain": [
       "<IPython.core.display.Video object>"
      ]
     },
     "metadata": {},
     "output_type": "display_data"
    }
   ],
   "source": [
    "\"\"\"\n",
    "=================================================================\n",
    "This is a template video for demonstrating Analog to Digital\n",
    "signal conversion graphically using the Manim library.\n",
    "\n",
    "Title: Analog to Digital Conversion Visualization\n",
    "Author: P Michael Crocco\n",
    "Affiliation: Office of the Dean of Engineering, Monash University\n",
    "Date: 10 May 2024\n",
    "Version: 1.0\n",
    "=================================================================\n",
    "\"\"\"\n",
    "\n",
    "from manim import *\n",
    "import numpy as np\n",
    "from scipy.optimize import fsolve\n",
    "\n",
    "# set background color (delete to default to BLACK)\n",
    "config.background_color = WHITE\n",
    "\n",
    "class AnalogToDigital(Scene):\n",
    "\n",
    "    def construct(self):\n",
    "\n",
    "        # Axes and harmonic\n",
    "        vert_shift = 0.5\n",
    "        amplitude = 0.5\n",
    "\n",
    "        # Define the harmonic function\n",
    "        def harmonic(x):\n",
    "            return amplitude * np.sin(x) + vert_shift\n",
    "        \n",
    "        # Define the axes, supress tickmarks\n",
    "        ax = Axes(x_range=[-0.5, 4 * PI + 1],\n",
    "                  y_range=[-0.1, 1.1],\n",
    "                  x_axis_config={\"include_ticks\": False},\n",
    "                  y_axis_config={\"include_ticks\": False},\n",
    "                  axis_config={\"color\": BLACK}\n",
    "        )\n",
    "        graph = ax.plot(lambda x: harmonic(x), color=BLACK, x_range=[0, 4 * PI])\n",
    "\n",
    "        # Draw in Axes\n",
    "        self.play(\n",
    "            FadeIn(ax)\n",
    "        )\n",
    "        self.wait\n",
    "\n",
    "        # Draw Sine wave\n",
    "        self.play(\n",
    "            FadeIn(graph, run_time = 1.0),\n",
    "            rate_func=linear\n",
    "        )\n",
    "\n",
    "        # Insert a label (note, default color is WHITE)\n",
    "        label1 = Tex(\"Signal\", color=BLACK).next_to(graph, RIGHT)\n",
    "        self.play(FadeIn(label1))\n",
    "\n",
    "        self.wait\n",
    "\n",
    "        # Set up digital thresholds\n",
    "        threshold = 0.7\n",
    "        upper_threshold = vert_shift + threshold * amplitude\n",
    "        lower_threshold = vert_shift - threshold * amplitude\n",
    "\n",
    "        # Draw lines at thresholds\n",
    "        upper_bar = DashedLine(start = ax.coords_to_point(0, upper_threshold), end = ax.coords_to_point(4 * PI + 1, upper_threshold,0), color=PINK)\n",
    "        lower_bar = DashedLine(start = ax.coords_to_point(0, lower_threshold), end = ax.coords_to_point(4 * PI + 1, lower_threshold,0), color=PINK)\n",
    "        self.play(Create(upper_bar))\n",
    "        self.play(Create(lower_bar))\n",
    "\n",
    "        self.wait\n",
    "\n",
    "        # Find first two intersections\n",
    "        def find_intersections(level):\n",
    "            first_guess = fsolve(lambda x: harmonic(x) - level, np.pi/4)\n",
    "            second_guess = fsolve(lambda x: harmonic(x) - level, 5*PI/4)\n",
    "            return first_guess, second_guess\n",
    "        \n",
    "        first_intersection, second_intersection = find_intersections(upper_threshold)\n",
    "\n",
    "        # Draw points on intersections\n",
    "        first_point = Dot(ax.coords_to_point(first_intersection[0], harmonic(first_intersection[0])), color=RED)\n",
    "        second_point = Dot(ax.coords_to_point(second_intersection[0], harmonic(second_intersection[0])), color=RED)\n",
    "        self.play(Create(first_point))\n",
    "        self.play(Create(second_point))\n",
    "\n",
    "        \n",
    "        # Draw the line between the intersection points\n",
    "        bar = Line(start=ax.coords_to_point(first_intersection[0], harmonic(first_intersection[0])),\n",
    "                   end=ax.coords_to_point(second_intersection[0], harmonic(second_intersection[0])),\n",
    "                   color=YELLOW, stroke_width = 10)\n",
    "        self.play(Create(bar), run_time=1.0)\n",
    "\n",
    "        self.wait(1)\n",
    "\n",
    "        # Move the line up to the value of y=1.0\n",
    "        midpoint = (bar.get_start() + bar.get_end()) /2\n",
    "\n",
    "        target_y = ax.coords_to_point(0,1)[1]\n",
    "        current_y = midpoint[1]\n",
    "        shift_vector = np.array([0, target_y - current_y, 0])\n",
    "\n",
    "        self.play(bar.animate.shift(shift_vector), run_time=1.0)\n",
    "\n",
    "        #Copy these lines in the x-direction and place accordingly\n",
    "        self.wait(1)\n",
    "\n",
    "        bar_length = second_intersection[0] - first_intersection[0]\n",
    "\n",
    "        bars = VGroup()\n",
    "       \n",
    "        initial_x = -PI/2\n",
    "     \n",
    "        for i in range(1,5):\n",
    "            x_center =  initial_x + i * PI\n",
    "            \n",
    "            if i % 2 == 1:\n",
    "                y_position = 1\n",
    "            else:\n",
    "                y_position = 0\n",
    "                         \n",
    "            start_point = ax.coords_to_point(x_center - bar_length / 2, y_position)\n",
    "            end_point = ax.coords_to_point(x_center + bar_length / 2, y_position)\n",
    "            \n",
    "            bar = Line(\n",
    "                start=start_point,\n",
    "                end=end_point,\n",
    "                color=YELLOW, stroke_width=10\n",
    "\n",
    "            )\n",
    "            bars.add(bar) \n",
    "\n",
    "        self.play(Create(bars), run_time = 0.5)\n",
    "        self.wait()\n",
    "\n",
    "        #draw rectangle\n",
    "        first_bar_end = bars[0].get_end()\n",
    "        second_bar_start = bars[1].get_start()\n",
    "\n",
    "        rectangle = Rectangle(\n",
    "            width=abs(second_bar_start[0] - first_bar_end[0]),\n",
    "            height=abs(second_bar_start[1] - first_bar_end[1]),\n",
    "            color=BLUE, fill_opacity=0.5\n",
    "        )\n",
    "\n",
    "        rectangle.move_to((first_bar_end + second_bar_start) /2)\n",
    "\n",
    "        self.play(FadeIn(rectangle))\n",
    "\n",
    "        self.wait(3)\n",
    "\n",
    "\n",
    "# Preview the video set -qX to get appropriate quality\n",
    "%manim -qh -v WARNING AnalogToDigital\n",
    "# uncomment the following will open the manim folder\n",
    "# %manim -qm -f AnalogToDigital"
   ]
  }
 ],
 "metadata": {
  "kernelspec": {
   "display_name": "manim-env",
   "language": "python",
   "name": "python3"
  },
  "language_info": {
   "codemirror_mode": {
    "name": "ipython",
    "version": 3
   },
   "file_extension": ".py",
   "mimetype": "text/x-python",
   "name": "python",
   "nbconvert_exporter": "python",
   "pygments_lexer": "ipython3",
   "version": "3.11.6"
  }
 },
 "nbformat": 4,
 "nbformat_minor": 2
}
